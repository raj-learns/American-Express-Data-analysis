{
  "nbformat": 4,
  "nbformat_minor": 0,
  "metadata": {
    "colab": {
      "provenance": [],
      "toc_visible": true,
      "authorship_tag": "ABX9TyMdVpmdCqeR+pBVPgknnR/1",
      "include_colab_link": true
    },
    "kernelspec": {
      "name": "python3",
      "display_name": "Python 3"
    },
    "language_info": {
      "name": "python"
    }
  },
  "cells": [
    {
      "cell_type": "markdown",
      "metadata": {
        "id": "view-in-github",
        "colab_type": "text"
      },
      "source": [
        "<a href=\"https://colab.research.google.com/github/raj-learns/American-Express-Data-analysis/blob/main/American_express.ipynb\" target=\"_parent\"><img src=\"https://colab.research.google.com/assets/colab-badge.svg\" alt=\"Open In Colab\"/></a>"
      ]
    },
    {
      "cell_type": "markdown",
      "source": [
        "##Importing Libraries"
      ],
      "metadata": {
        "id": "M9ZcwP_wL0rp"
      }
    },
    {
      "cell_type": "code",
      "execution_count": 4,
      "metadata": {
        "id": "RV0Mm9jLLX6_"
      },
      "outputs": [],
      "source": [
        "import numpy as np\n",
        "import pandas as pd\n",
        "import matplotlib.pyplot as plt\n",
        "import tensorflow as tf"
      ]
    },
    {
      "cell_type": "markdown",
      "source": [
        "##Importing Dataset\n"
      ],
      "metadata": {
        "id": "lTqdj8hjS1-H"
      }
    },
    {
      "cell_type": "code",
      "source": [
        "data_set = pd.read_csv('american_express.csv')\n",
        "x = data_set.iloc[:,:-1]\n",
        "y = data_set.iloc[:,-1].values"
      ],
      "metadata": {
        "id": "e9eSBxB5S-GZ"
      },
      "execution_count": 5,
      "outputs": []
    },
    {
      "cell_type": "code",
      "source": [
        "print(x)"
      ],
      "metadata": {
        "colab": {
          "base_uri": "https://localhost:8080/"
        },
        "id": "hbv-MHRbX8Iq",
        "outputId": "12481ed4-d22f-435b-d74d-b87720fc4821"
      },
      "execution_count": 6,
      "outputs": [
        {
          "output_type": "stream",
          "name": "stdout",
          "text": [
            "      Credit Score  Geography  Gender  Age  Customer Since  Current Account  \\\n",
            "0              553      Delhi  Female   45               4     0.000000e+00   \n",
            "1              447  Bengaluru    Male   31               7     0.000000e+00   \n",
            "2              501      Delhi  Female   32               2     0.000000e+00   \n",
            "3              428      Delhi    Male   51               3     0.000000e+00   \n",
            "4              492      Delhi  Female   57               6     1.912682e+06   \n",
            "...            ...        ...     ...  ...             ...              ...   \n",
            "9922           594  Bengaluru    Male   28               6     0.000000e+00   \n",
            "9923           557  Bengaluru    Male   59               3     8.050490e+05   \n",
            "9924           627     Mumbai  Female   42               4     1.893594e+06   \n",
            "9925           600  Bengaluru  Female   51               0     9.031778e+05   \n",
            "9926           553      Delhi    Male   75               7     0.000000e+00   \n",
            "\n",
            "      Num of products  UPI Enabled  Estimated Yearly Income  \n",
            "0                   4            1                   274150  \n",
            "1                   4            1                   519360  \n",
            "2                   4            1                   545501  \n",
            "3                   4            1                    86868  \n",
            "4                   2            1                   518680  \n",
            "...               ...          ...                      ...  \n",
            "9922                4            1                   394810  \n",
            "9923                2            0                    58163  \n",
            "9924                4            0                   494067  \n",
            "9925                2            1                   109375  \n",
            "9926                4            1                   180031  \n",
            "\n",
            "[9927 rows x 9 columns]\n"
          ]
        }
      ]
    },
    {
      "cell_type": "code",
      "source": [
        "print(y)"
      ],
      "metadata": {
        "colab": {
          "base_uri": "https://localhost:8080/"
        },
        "id": "OetmNDYTX-C_",
        "outputId": "7d6b02d1-a717-47c9-e566-99a7a2af66b2"
      },
      "execution_count": 7,
      "outputs": [
        {
          "output_type": "stream",
          "name": "stdout",
          "text": [
            "[0 0 0 ... 0 1 0]\n"
          ]
        }
      ]
    },
    {
      "cell_type": "markdown",
      "source": [
        "##Handling missing values"
      ],
      "metadata": {
        "id": "nN66adD7YL_i"
      }
    },
    {
      "cell_type": "code",
      "source": [
        "from sklearn.impute import SimpleImputer\n",
        "imputer = SimpleImputer(missing_values=np.nan, strategy='mean')"
      ],
      "metadata": {
        "id": "ilVJPdKBYJ_D"
      },
      "execution_count": 8,
      "outputs": []
    },
    {
      "cell_type": "code",
      "source": [
        "# Separate numeric and categorical columns\n",
        "numeric_cols = x.select_dtypes(include=[np.number]).columns  # Numeric columns\n",
        "categorical_cols = x.select_dtypes(include=['object']).columns  # Categorical columns\n",
        "\n",
        "# Imputer for numeric columns\n",
        "num_imputer = SimpleImputer(strategy='mean')\n",
        "x[numeric_cols] = num_imputer.fit_transform(x[numeric_cols])\n",
        "\n",
        "# Imputer for categorical columns\n",
        "cat_imputer = SimpleImputer(strategy='most_frequent')\n",
        "x[categorical_cols] = cat_imputer.fit_transform(x[categorical_cols])"
      ],
      "metadata": {
        "id": "NwDDqawRrjwN"
      },
      "execution_count": 9,
      "outputs": []
    },
    {
      "cell_type": "code",
      "source": [
        "print(x)"
      ],
      "metadata": {
        "colab": {
          "base_uri": "https://localhost:8080/"
        },
        "id": "e0Sv9mt6sKKr",
        "outputId": "0667aae5-0fc8-4e8e-f132-3d33d49d7bf2"
      },
      "execution_count": 10,
      "outputs": [
        {
          "output_type": "stream",
          "name": "stdout",
          "text": [
            "      Credit Score  Geography  Gender   Age  Customer Since  Current Account  \\\n",
            "0            553.0      Delhi  Female  45.0             4.0     0.000000e+00   \n",
            "1            447.0  Bengaluru    Male  31.0             7.0     0.000000e+00   \n",
            "2            501.0      Delhi  Female  32.0             2.0     0.000000e+00   \n",
            "3            428.0      Delhi    Male  51.0             3.0     0.000000e+00   \n",
            "4            492.0      Delhi  Female  57.0             6.0     1.912682e+06   \n",
            "...            ...        ...     ...   ...             ...              ...   \n",
            "9922         594.0  Bengaluru    Male  28.0             6.0     0.000000e+00   \n",
            "9923         557.0  Bengaluru    Male  59.0             3.0     8.050490e+05   \n",
            "9924         627.0     Mumbai  Female  42.0             4.0     1.893594e+06   \n",
            "9925         600.0  Bengaluru  Female  51.0             0.0     9.031778e+05   \n",
            "9926         553.0      Delhi    Male  75.0             7.0     0.000000e+00   \n",
            "\n",
            "      Num of products  UPI Enabled  Estimated Yearly Income  \n",
            "0                 4.0          1.0                 274150.0  \n",
            "1                 4.0          1.0                 519360.0  \n",
            "2                 4.0          1.0                 545501.0  \n",
            "3                 4.0          1.0                  86868.0  \n",
            "4                 2.0          1.0                 518680.0  \n",
            "...               ...          ...                      ...  \n",
            "9922              4.0          1.0                 394810.0  \n",
            "9923              2.0          0.0                  58163.0  \n",
            "9924              4.0          0.0                 494067.0  \n",
            "9925              2.0          1.0                 109375.0  \n",
            "9926              4.0          1.0                 180031.0  \n",
            "\n",
            "[9927 rows x 9 columns]\n"
          ]
        }
      ]
    },
    {
      "cell_type": "code",
      "source": [
        "x = x.values"
      ],
      "metadata": {
        "id": "1twWfIE5sSd8"
      },
      "execution_count": 11,
      "outputs": []
    },
    {
      "cell_type": "code",
      "source": [
        "print(x)"
      ],
      "metadata": {
        "colab": {
          "base_uri": "https://localhost:8080/"
        },
        "id": "HaDKmb0GsVw_",
        "outputId": "7eee849b-fc1f-4d6c-e511-671277068186"
      },
      "execution_count": 12,
      "outputs": [
        {
          "output_type": "stream",
          "name": "stdout",
          "text": [
            "[[553.0 'Delhi' 'Female' ... 4.0 1.0 274150.0]\n",
            " [447.0 'Bengaluru' 'Male' ... 4.0 1.0 519360.0]\n",
            " [501.0 'Delhi' 'Female' ... 4.0 1.0 545501.0]\n",
            " ...\n",
            " [627.0 'Mumbai' 'Female' ... 4.0 0.0 494067.0]\n",
            " [600.0 'Bengaluru' 'Female' ... 2.0 1.0 109375.0]\n",
            " [553.0 'Delhi' 'Male' ... 4.0 1.0 180031.0]]\n"
          ]
        }
      ]
    },
    {
      "cell_type": "markdown",
      "source": [
        "##Encoding Categorical Data"
      ],
      "metadata": {
        "id": "knOT-x8nu4tF"
      }
    },
    {
      "cell_type": "code",
      "source": [
        "from re import L\n",
        "from sklearn.preprocessing import LabelEncoder\n",
        "le = LabelEncoder()\n",
        "x[:, 2] = le.fit_transform(x[:, 2])"
      ],
      "metadata": {
        "id": "mBWg6Hs27p-u"
      },
      "execution_count": 13,
      "outputs": []
    },
    {
      "cell_type": "code",
      "source": [
        "from sklearn.compose import ColumnTransformer\n",
        "from sklearn.preprocessing import OneHotEncoder"
      ],
      "metadata": {
        "id": "59qYO-zYvJiv"
      },
      "execution_count": 14,
      "outputs": []
    },
    {
      "cell_type": "code",
      "source": [
        "ct = ColumnTransformer(transformers=[('encoder',OneHotEncoder(), [1])], remainder= 'passthrough')\n",
        "x = np.array(ct.fit_transform(x))"
      ],
      "metadata": {
        "id": "JiIyxGkBvQ1Q"
      },
      "execution_count": 15,
      "outputs": []
    },
    {
      "cell_type": "code",
      "source": [
        "print(x)"
      ],
      "metadata": {
        "colab": {
          "base_uri": "https://localhost:8080/"
        },
        "id": "avw40OUGvuuT",
        "outputId": "a6296d41-aa3b-49f3-9a3f-1c246e7c87bd"
      },
      "execution_count": 16,
      "outputs": [
        {
          "output_type": "stream",
          "name": "stdout",
          "text": [
            "[[0.0 1.0 0.0 ... 4.0 1.0 274150.0]\n",
            " [1.0 0.0 0.0 ... 4.0 1.0 519360.0]\n",
            " [0.0 1.0 0.0 ... 4.0 1.0 545501.0]\n",
            " ...\n",
            " [0.0 0.0 1.0 ... 4.0 0.0 494067.0]\n",
            " [1.0 0.0 0.0 ... 2.0 1.0 109375.0]\n",
            " [0.0 1.0 0.0 ... 4.0 1.0 180031.0]]\n"
          ]
        }
      ]
    },
    {
      "cell_type": "code",
      "source": [
        "print(x[:10])"
      ],
      "metadata": {
        "colab": {
          "base_uri": "https://localhost:8080/"
        },
        "id": "-F2DQ-G1yDpT",
        "outputId": "3ec21dc4-ef01-4ee1-c90a-fea963b46181"
      },
      "execution_count": 17,
      "outputs": [
        {
          "output_type": "stream",
          "name": "stdout",
          "text": [
            "[[0.0 1.0 0.0 553.0 0 45.0 4.0 0.0 4.0 1.0 274150.0]\n",
            " [1.0 0.0 0.0 447.0 1 31.0 7.0 0.0 4.0 1.0 519360.0]\n",
            " [0.0 1.0 0.0 501.0 0 32.0 2.0 0.0 4.0 1.0 545501.0]\n",
            " [0.0 1.0 0.0 428.0 1 51.0 3.0 0.0 4.0 1.0 86868.0]\n",
            " [0.0 1.0 0.0 492.0 0 57.0 6.0 1912681.501 2.0 1.0 518680.0]\n",
            " [0.0 0.0 1.0 649.0 1 61.0 4.0 1739005.126 2.0 1.0 86816.0]\n",
            " [0.0 0.0 1.0 624.0 1 54.0 6.0 1741981.923 4.0 1.0 72959.0]\n",
            " [1.0 0.0 0.0 510.0 1 74.0 8.0 0.0 4.0 1.0 295115.0]\n",
            " [0.0 0.0 1.0 573.0 1 45.0 8.0 1245561.866 4.0 1.0 471174.0]\n",
            " [0.0 1.0 0.0 517.0 0 62.0 6.0 2210750.266 4.0 0.0 149488.0]]\n"
          ]
        }
      ]
    },
    {
      "cell_type": "markdown",
      "source": [
        "##Splitting data into test and training set"
      ],
      "metadata": {
        "id": "1OwwtPS6xGx1"
      }
    },
    {
      "cell_type": "code",
      "source": [
        "from sklearn.model_selection import train_test_split\n",
        "x_train, x_test, y_train, y_test = train_test_split(x, y, test_size = 0.2, random_state = 0)"
      ],
      "metadata": {
        "id": "Hpswi37AxQBg"
      },
      "execution_count": 18,
      "outputs": []
    },
    {
      "cell_type": "markdown",
      "source": [
        "##Feature Scaling"
      ],
      "metadata": {
        "id": "nfXvqUntyd7m"
      }
    },
    {
      "cell_type": "code",
      "source": [
        "from sklearn.preprocessing import StandardScaler\n",
        "sc = StandardScaler()\n",
        "x_train = sc.fit_transform(x_train)\n",
        "x_test = sc.transform(x_test)"
      ],
      "metadata": {
        "id": "QxI3d5uHyi-X"
      },
      "execution_count": 19,
      "outputs": []
    },
    {
      "cell_type": "code",
      "source": [
        "print(x_train[:2])"
      ],
      "metadata": {
        "colab": {
          "base_uri": "https://localhost:8080/"
        },
        "id": "RJIYm7640WEc",
        "outputId": "9d2314ea-6b19-47e5-d27c-75dc97797eb6"
      },
      "execution_count": 20,
      "outputs": [
        {
          "output_type": "stream",
          "name": "stdout",
          "text": [
            "[[ 0.99434917 -0.57109746 -0.5792406   0.0182918   1.09615352 -1.09794716\n",
            "   1.50134279 -1.16977761  0.90580857  0.65086753 -0.06854301]\n",
            " [-1.00568294 -0.57109746  1.72639831 -0.80507849 -0.91228097 -0.41311395\n",
            "   1.50134279  0.93827052  0.90580857  0.65086753  0.34018176]]\n"
          ]
        }
      ]
    },
    {
      "cell_type": "markdown",
      "source": [
        "##ANN"
      ],
      "metadata": {
        "id": "B2GaSQ5B9P2Z"
      }
    },
    {
      "cell_type": "markdown",
      "source": [
        "Initialization"
      ],
      "metadata": {
        "id": "Z70p8NhF9Tf9"
      }
    },
    {
      "cell_type": "code",
      "source": [
        "ann = tf.keras.models.Sequential()\n"
      ],
      "metadata": {
        "id": "QJyHEjgV9hBL"
      },
      "execution_count": 21,
      "outputs": []
    },
    {
      "cell_type": "markdown",
      "source": [
        "Adding input layer and first hidden layer"
      ],
      "metadata": {
        "id": "qqXzATFUDmeB"
      }
    },
    {
      "cell_type": "code",
      "source": [
        "ann.add(tf.keras.layers.Dense(units=6, activation='relu', input_shape=(x_train.shape[1],)))"
      ],
      "metadata": {
        "colab": {
          "base_uri": "https://localhost:8080/"
        },
        "id": "qVb-v1TkDllj",
        "outputId": "06f0b55d-cfcf-4a2c-8b2e-aa8d3ddbf612"
      },
      "execution_count": 22,
      "outputs": [
        {
          "output_type": "stream",
          "name": "stderr",
          "text": [
            "/usr/local/lib/python3.10/dist-packages/keras/src/layers/core/dense.py:87: UserWarning: Do not pass an `input_shape`/`input_dim` argument to a layer. When using Sequential models, prefer using an `Input(shape)` object as the first layer in the model instead.\n",
            "  super().__init__(activity_regularizer=activity_regularizer, **kwargs)\n"
          ]
        }
      ]
    },
    {
      "cell_type": "markdown",
      "source": [
        "Adding second hidden layer"
      ],
      "metadata": {
        "id": "m12gGC8gFUq2"
      }
    },
    {
      "cell_type": "code",
      "source": [
        "ann.add(tf.keras.layers.Dense(units=6, activation='relu'))"
      ],
      "metadata": {
        "id": "KOfK0qN6FT9Y"
      },
      "execution_count": 23,
      "outputs": []
    },
    {
      "cell_type": "markdown",
      "source": [
        "Adding output layer"
      ],
      "metadata": {
        "id": "BOqVQMy2Fw0R"
      }
    },
    {
      "cell_type": "code",
      "source": [
        "ann.add(tf.keras.layers.Dense(units=1, activation='sigmoid'))"
      ],
      "metadata": {
        "id": "Ox10OgFSF3OS"
      },
      "execution_count": 24,
      "outputs": []
    },
    {
      "cell_type": "markdown",
      "source": [
        "###ANN Training"
      ],
      "metadata": {
        "id": "SvJ2bf2aGDBi"
      }
    },
    {
      "cell_type": "markdown",
      "source": [
        "compile"
      ],
      "metadata": {
        "id": "bSD0LcegGF7h"
      }
    },
    {
      "cell_type": "code",
      "source": [
        "ann.compile(optimizer = 'adam', loss = 'binary_crossentropy', metrics = ['accuracy'])"
      ],
      "metadata": {
        "id": "Juh-7dOPGYim"
      },
      "execution_count": 25,
      "outputs": []
    },
    {
      "cell_type": "markdown",
      "source": [
        "Training on training dataset"
      ],
      "metadata": {
        "id": "F-Tu2n4tGfPW"
      }
    },
    {
      "cell_type": "code",
      "source": [
        "ann.fit(x_train, y_train, batch_size = 32, epochs = 120)"
      ],
      "metadata": {
        "colab": {
          "base_uri": "https://localhost:8080/"
        },
        "id": "Rk-LxKqVGkfo",
        "outputId": "b90c44e6-3d62-4007-8612-dba2ec576b7b"
      },
      "execution_count": 26,
      "outputs": [
        {
          "output_type": "stream",
          "name": "stdout",
          "text": [
            "Epoch 1/120\n",
            "\u001b[1m249/249\u001b[0m \u001b[32m━━━━━━━━━━━━━━━━━━━━\u001b[0m\u001b[37m\u001b[0m \u001b[1m2s\u001b[0m 2ms/step - accuracy: 0.4623 - loss: 0.7772\n",
            "Epoch 2/120\n",
            "\u001b[1m249/249\u001b[0m \u001b[32m━━━━━━━━━━━━━━━━━━━━\u001b[0m\u001b[37m\u001b[0m \u001b[1m0s\u001b[0m 2ms/step - accuracy: 0.8003 - loss: 0.5353\n",
            "Epoch 3/120\n",
            "\u001b[1m249/249\u001b[0m \u001b[32m━━━━━━━━━━━━━━━━━━━━\u001b[0m\u001b[37m\u001b[0m \u001b[1m1s\u001b[0m 2ms/step - accuracy: 0.7948 - loss: 0.4778\n",
            "Epoch 4/120\n",
            "\u001b[1m249/249\u001b[0m \u001b[32m━━━━━━━━━━━━━━━━━━━━\u001b[0m\u001b[37m\u001b[0m \u001b[1m0s\u001b[0m 2ms/step - accuracy: 0.8014 - loss: 0.4525\n",
            "Epoch 5/120\n",
            "\u001b[1m249/249\u001b[0m \u001b[32m━━━━━━━━━━━━━━━━━━━━\u001b[0m\u001b[37m\u001b[0m \u001b[1m1s\u001b[0m 2ms/step - accuracy: 0.8030 - loss: 0.4379\n",
            "Epoch 6/120\n",
            "\u001b[1m249/249\u001b[0m \u001b[32m━━━━━━━━━━━━━━━━━━━━\u001b[0m\u001b[37m\u001b[0m \u001b[1m0s\u001b[0m 2ms/step - accuracy: 0.8077 - loss: 0.4289\n",
            "Epoch 7/120\n",
            "\u001b[1m249/249\u001b[0m \u001b[32m━━━━━━━━━━━━━━━━━━━━\u001b[0m\u001b[37m\u001b[0m \u001b[1m1s\u001b[0m 2ms/step - accuracy: 0.8081 - loss: 0.4241\n",
            "Epoch 8/120\n",
            "\u001b[1m249/249\u001b[0m \u001b[32m━━━━━━━━━━━━━━━━━━━━\u001b[0m\u001b[37m\u001b[0m \u001b[1m0s\u001b[0m 2ms/step - accuracy: 0.8242 - loss: 0.4065\n",
            "Epoch 9/120\n",
            "\u001b[1m249/249\u001b[0m \u001b[32m━━━━━━━━━━━━━━━━━━━━\u001b[0m\u001b[37m\u001b[0m \u001b[1m0s\u001b[0m 2ms/step - accuracy: 0.8140 - loss: 0.4169\n",
            "Epoch 10/120\n",
            "\u001b[1m249/249\u001b[0m \u001b[32m━━━━━━━━━━━━━━━━━━━━\u001b[0m\u001b[37m\u001b[0m \u001b[1m0s\u001b[0m 2ms/step - accuracy: 0.8193 - loss: 0.4078\n",
            "Epoch 11/120\n",
            "\u001b[1m249/249\u001b[0m \u001b[32m━━━━━━━━━━━━━━━━━━━━\u001b[0m\u001b[37m\u001b[0m \u001b[1m1s\u001b[0m 2ms/step - accuracy: 0.8297 - loss: 0.3933\n",
            "Epoch 12/120\n",
            "\u001b[1m249/249\u001b[0m \u001b[32m━━━━━━━━━━━━━━━━━━━━\u001b[0m\u001b[37m\u001b[0m \u001b[1m0s\u001b[0m 2ms/step - accuracy: 0.8231 - loss: 0.3992\n",
            "Epoch 13/120\n",
            "\u001b[1m249/249\u001b[0m \u001b[32m━━━━━━━━━━━━━━━━━━━━\u001b[0m\u001b[37m\u001b[0m \u001b[1m1s\u001b[0m 2ms/step - accuracy: 0.8344 - loss: 0.3918\n",
            "Epoch 14/120\n",
            "\u001b[1m249/249\u001b[0m \u001b[32m━━━━━━━━━━━━━━━━━━━━\u001b[0m\u001b[37m\u001b[0m \u001b[1m1s\u001b[0m 2ms/step - accuracy: 0.8299 - loss: 0.3926\n",
            "Epoch 15/120\n",
            "\u001b[1m249/249\u001b[0m \u001b[32m━━━━━━━━━━━━━━━━━━━━\u001b[0m\u001b[37m\u001b[0m \u001b[1m1s\u001b[0m 2ms/step - accuracy: 0.8275 - loss: 0.3854\n",
            "Epoch 16/120\n",
            "\u001b[1m249/249\u001b[0m \u001b[32m━━━━━━━━━━━━━━━━━━━━\u001b[0m\u001b[37m\u001b[0m \u001b[1m0s\u001b[0m 2ms/step - accuracy: 0.8335 - loss: 0.3781\n",
            "Epoch 17/120\n",
            "\u001b[1m249/249\u001b[0m \u001b[32m━━━━━━━━━━━━━━━━━━━━\u001b[0m\u001b[37m\u001b[0m \u001b[1m1s\u001b[0m 3ms/step - accuracy: 0.8349 - loss: 0.3711\n",
            "Epoch 18/120\n",
            "\u001b[1m249/249\u001b[0m \u001b[32m━━━━━━━━━━━━━━━━━━━━\u001b[0m\u001b[37m\u001b[0m \u001b[1m1s\u001b[0m 3ms/step - accuracy: 0.8452 - loss: 0.3642\n",
            "Epoch 19/120\n",
            "\u001b[1m249/249\u001b[0m \u001b[32m━━━━━━━━━━━━━━━━━━━━\u001b[0m\u001b[37m\u001b[0m \u001b[1m1s\u001b[0m 2ms/step - accuracy: 0.8335 - loss: 0.3748\n",
            "Epoch 20/120\n",
            "\u001b[1m249/249\u001b[0m \u001b[32m━━━━━━━━━━━━━━━━━━━━\u001b[0m\u001b[37m\u001b[0m \u001b[1m1s\u001b[0m 2ms/step - accuracy: 0.8342 - loss: 0.3778\n",
            "Epoch 21/120\n",
            "\u001b[1m249/249\u001b[0m \u001b[32m━━━━━━━━━━━━━━━━━━━━\u001b[0m\u001b[37m\u001b[0m \u001b[1m1s\u001b[0m 3ms/step - accuracy: 0.8439 - loss: 0.3634\n",
            "Epoch 22/120\n",
            "\u001b[1m249/249\u001b[0m \u001b[32m━━━━━━━━━━━━━━━━━━━━\u001b[0m\u001b[37m\u001b[0m \u001b[1m1s\u001b[0m 2ms/step - accuracy: 0.8394 - loss: 0.3673\n",
            "Epoch 23/120\n",
            "\u001b[1m249/249\u001b[0m \u001b[32m━━━━━━━━━━━━━━━━━━━━\u001b[0m\u001b[37m\u001b[0m \u001b[1m1s\u001b[0m 2ms/step - accuracy: 0.8334 - loss: 0.3714\n",
            "Epoch 24/120\n",
            "\u001b[1m249/249\u001b[0m \u001b[32m━━━━━━━━━━━━━━━━━━━━\u001b[0m\u001b[37m\u001b[0m \u001b[1m1s\u001b[0m 2ms/step - accuracy: 0.8343 - loss: 0.3739\n",
            "Epoch 25/120\n",
            "\u001b[1m249/249\u001b[0m \u001b[32m━━━━━━━━━━━━━━━━━━━━\u001b[0m\u001b[37m\u001b[0m \u001b[1m1s\u001b[0m 2ms/step - accuracy: 0.8442 - loss: 0.3576\n",
            "Epoch 26/120\n",
            "\u001b[1m249/249\u001b[0m \u001b[32m━━━━━━━━━━━━━━━━━━━━\u001b[0m\u001b[37m\u001b[0m \u001b[1m1s\u001b[0m 2ms/step - accuracy: 0.8396 - loss: 0.3649\n",
            "Epoch 27/120\n",
            "\u001b[1m249/249\u001b[0m \u001b[32m━━━━━━━━━━━━━━━━━━━━\u001b[0m\u001b[37m\u001b[0m \u001b[1m1s\u001b[0m 2ms/step - accuracy: 0.8447 - loss: 0.3621\n",
            "Epoch 28/120\n",
            "\u001b[1m249/249\u001b[0m \u001b[32m━━━━━━━━━━━━━━━━━━━━\u001b[0m\u001b[37m\u001b[0m \u001b[1m1s\u001b[0m 2ms/step - accuracy: 0.8446 - loss: 0.3552\n",
            "Epoch 29/120\n",
            "\u001b[1m249/249\u001b[0m \u001b[32m━━━━━━━━━━━━━━━━━━━━\u001b[0m\u001b[37m\u001b[0m \u001b[1m1s\u001b[0m 2ms/step - accuracy: 0.8502 - loss: 0.3544\n",
            "Epoch 30/120\n",
            "\u001b[1m249/249\u001b[0m \u001b[32m━━━━━━━━━━━━━━━━━━━━\u001b[0m\u001b[37m\u001b[0m \u001b[1m0s\u001b[0m 2ms/step - accuracy: 0.8481 - loss: 0.3508\n",
            "Epoch 31/120\n",
            "\u001b[1m249/249\u001b[0m \u001b[32m━━━━━━━━━━━━━━━━━━━━\u001b[0m\u001b[37m\u001b[0m \u001b[1m1s\u001b[0m 2ms/step - accuracy: 0.8388 - loss: 0.3662\n",
            "Epoch 32/120\n",
            "\u001b[1m249/249\u001b[0m \u001b[32m━━━━━━━━━━━━━━━━━━━━\u001b[0m\u001b[37m\u001b[0m \u001b[1m1s\u001b[0m 2ms/step - accuracy: 0.8406 - loss: 0.3582\n",
            "Epoch 33/120\n",
            "\u001b[1m249/249\u001b[0m \u001b[32m━━━━━━━━━━━━━━━━━━━━\u001b[0m\u001b[37m\u001b[0m \u001b[1m0s\u001b[0m 2ms/step - accuracy: 0.8472 - loss: 0.3571\n",
            "Epoch 34/120\n",
            "\u001b[1m249/249\u001b[0m \u001b[32m━━━━━━━━━━━━━━━━━━━━\u001b[0m\u001b[37m\u001b[0m \u001b[1m1s\u001b[0m 2ms/step - accuracy: 0.8443 - loss: 0.3627\n",
            "Epoch 35/120\n",
            "\u001b[1m249/249\u001b[0m \u001b[32m━━━━━━━━━━━━━━━━━━━━\u001b[0m\u001b[37m\u001b[0m \u001b[1m1s\u001b[0m 3ms/step - accuracy: 0.8418 - loss: 0.3634\n",
            "Epoch 36/120\n",
            "\u001b[1m249/249\u001b[0m \u001b[32m━━━━━━━━━━━━━━━━━━━━\u001b[0m\u001b[37m\u001b[0m \u001b[1m1s\u001b[0m 3ms/step - accuracy: 0.8467 - loss: 0.3542\n",
            "Epoch 37/120\n",
            "\u001b[1m249/249\u001b[0m \u001b[32m━━━━━━━━━━━━━━━━━━━━\u001b[0m\u001b[37m\u001b[0m \u001b[1m1s\u001b[0m 2ms/step - accuracy: 0.8365 - loss: 0.3664\n",
            "Epoch 38/120\n",
            "\u001b[1m249/249\u001b[0m \u001b[32m━━━━━━━━━━━━━━━━━━━━\u001b[0m\u001b[37m\u001b[0m \u001b[1m0s\u001b[0m 2ms/step - accuracy: 0.8391 - loss: 0.3615\n",
            "Epoch 39/120\n",
            "\u001b[1m249/249\u001b[0m \u001b[32m━━━━━━━━━━━━━━━━━━━━\u001b[0m\u001b[37m\u001b[0m \u001b[1m1s\u001b[0m 2ms/step - accuracy: 0.8409 - loss: 0.3707\n",
            "Epoch 40/120\n",
            "\u001b[1m249/249\u001b[0m \u001b[32m━━━━━━━━━━━━━━━━━━━━\u001b[0m\u001b[37m\u001b[0m \u001b[1m1s\u001b[0m 2ms/step - accuracy: 0.8463 - loss: 0.3618\n",
            "Epoch 41/120\n",
            "\u001b[1m249/249\u001b[0m \u001b[32m━━━━━━━━━━━━━━━━━━━━\u001b[0m\u001b[37m\u001b[0m \u001b[1m0s\u001b[0m 2ms/step - accuracy: 0.8392 - loss: 0.3688\n",
            "Epoch 42/120\n",
            "\u001b[1m249/249\u001b[0m \u001b[32m━━━━━━━━━━━━━━━━━━━━\u001b[0m\u001b[37m\u001b[0m \u001b[1m0s\u001b[0m 2ms/step - accuracy: 0.8452 - loss: 0.3630\n",
            "Epoch 43/120\n",
            "\u001b[1m249/249\u001b[0m \u001b[32m━━━━━━━━━━━━━━━━━━━━\u001b[0m\u001b[37m\u001b[0m \u001b[1m0s\u001b[0m 2ms/step - accuracy: 0.8522 - loss: 0.3482\n",
            "Epoch 44/120\n",
            "\u001b[1m249/249\u001b[0m \u001b[32m━━━━━━━━━━━━━━━━━━━━\u001b[0m\u001b[37m\u001b[0m \u001b[1m1s\u001b[0m 2ms/step - accuracy: 0.8470 - loss: 0.3606\n",
            "Epoch 45/120\n",
            "\u001b[1m249/249\u001b[0m \u001b[32m━━━━━━━━━━━━━━━━━━━━\u001b[0m\u001b[37m\u001b[0m \u001b[1m1s\u001b[0m 2ms/step - accuracy: 0.8481 - loss: 0.3578\n",
            "Epoch 46/120\n",
            "\u001b[1m249/249\u001b[0m \u001b[32m━━━━━━━━━━━━━━━━━━━━\u001b[0m\u001b[37m\u001b[0m \u001b[1m1s\u001b[0m 2ms/step - accuracy: 0.8430 - loss: 0.3580\n",
            "Epoch 47/120\n",
            "\u001b[1m249/249\u001b[0m \u001b[32m━━━━━━━━━━━━━━━━━━━━\u001b[0m\u001b[37m\u001b[0m \u001b[1m1s\u001b[0m 2ms/step - accuracy: 0.8378 - loss: 0.3661\n",
            "Epoch 48/120\n",
            "\u001b[1m249/249\u001b[0m \u001b[32m━━━━━━━━━━━━━━━━━━━━\u001b[0m\u001b[37m\u001b[0m \u001b[1m1s\u001b[0m 2ms/step - accuracy: 0.8486 - loss: 0.3571\n",
            "Epoch 49/120\n",
            "\u001b[1m249/249\u001b[0m \u001b[32m━━━━━━━━━━━━━━━━━━━━\u001b[0m\u001b[37m\u001b[0m \u001b[1m1s\u001b[0m 2ms/step - accuracy: 0.8439 - loss: 0.3640\n",
            "Epoch 50/120\n",
            "\u001b[1m249/249\u001b[0m \u001b[32m━━━━━━━━━━━━━━━━━━━━\u001b[0m\u001b[37m\u001b[0m \u001b[1m1s\u001b[0m 2ms/step - accuracy: 0.8497 - loss: 0.3454\n",
            "Epoch 51/120\n",
            "\u001b[1m249/249\u001b[0m \u001b[32m━━━━━━━━━━━━━━━━━━━━\u001b[0m\u001b[37m\u001b[0m \u001b[1m0s\u001b[0m 2ms/step - accuracy: 0.8437 - loss: 0.3628\n",
            "Epoch 52/120\n",
            "\u001b[1m249/249\u001b[0m \u001b[32m━━━━━━━━━━━━━━━━━━━━\u001b[0m\u001b[37m\u001b[0m \u001b[1m1s\u001b[0m 2ms/step - accuracy: 0.8453 - loss: 0.3575\n",
            "Epoch 53/120\n",
            "\u001b[1m249/249\u001b[0m \u001b[32m━━━━━━━━━━━━━━━━━━━━\u001b[0m\u001b[37m\u001b[0m \u001b[1m1s\u001b[0m 2ms/step - accuracy: 0.8475 - loss: 0.3553\n",
            "Epoch 54/120\n",
            "\u001b[1m249/249\u001b[0m \u001b[32m━━━━━━━━━━━━━━━━━━━━\u001b[0m\u001b[37m\u001b[0m \u001b[1m1s\u001b[0m 2ms/step - accuracy: 0.8499 - loss: 0.3574\n",
            "Epoch 55/120\n",
            "\u001b[1m249/249\u001b[0m \u001b[32m━━━━━━━━━━━━━━━━━━━━\u001b[0m\u001b[37m\u001b[0m \u001b[1m1s\u001b[0m 3ms/step - accuracy: 0.8509 - loss: 0.3536\n",
            "Epoch 56/120\n",
            "\u001b[1m249/249\u001b[0m \u001b[32m━━━━━━━━━━━━━━━━━━━━\u001b[0m\u001b[37m\u001b[0m \u001b[1m1s\u001b[0m 3ms/step - accuracy: 0.8422 - loss: 0.3631\n",
            "Epoch 57/120\n",
            "\u001b[1m249/249\u001b[0m \u001b[32m━━━━━━━━━━━━━━━━━━━━\u001b[0m\u001b[37m\u001b[0m \u001b[1m1s\u001b[0m 2ms/step - accuracy: 0.8409 - loss: 0.3640\n",
            "Epoch 58/120\n",
            "\u001b[1m249/249\u001b[0m \u001b[32m━━━━━━━━━━━━━━━━━━━━\u001b[0m\u001b[37m\u001b[0m \u001b[1m1s\u001b[0m 2ms/step - accuracy: 0.8527 - loss: 0.3463\n",
            "Epoch 59/120\n",
            "\u001b[1m249/249\u001b[0m \u001b[32m━━━━━━━━━━━━━━━━━━━━\u001b[0m\u001b[37m\u001b[0m \u001b[1m1s\u001b[0m 2ms/step - accuracy: 0.8433 - loss: 0.3578\n",
            "Epoch 60/120\n",
            "\u001b[1m249/249\u001b[0m \u001b[32m━━━━━━━━━━━━━━━━━━━━\u001b[0m\u001b[37m\u001b[0m \u001b[1m0s\u001b[0m 2ms/step - accuracy: 0.8481 - loss: 0.3522\n",
            "Epoch 61/120\n",
            "\u001b[1m249/249\u001b[0m \u001b[32m━━━━━━━━━━━━━━━━━━━━\u001b[0m\u001b[37m\u001b[0m \u001b[1m0s\u001b[0m 2ms/step - accuracy: 0.8403 - loss: 0.3679\n",
            "Epoch 62/120\n",
            "\u001b[1m249/249\u001b[0m \u001b[32m━━━━━━━━━━━━━━━━━━━━\u001b[0m\u001b[37m\u001b[0m \u001b[1m1s\u001b[0m 2ms/step - accuracy: 0.8511 - loss: 0.3534\n",
            "Epoch 63/120\n",
            "\u001b[1m249/249\u001b[0m \u001b[32m━━━━━━━━━━━━━━━━━━━━\u001b[0m\u001b[37m\u001b[0m \u001b[1m1s\u001b[0m 2ms/step - accuracy: 0.8426 - loss: 0.3601\n",
            "Epoch 64/120\n",
            "\u001b[1m249/249\u001b[0m \u001b[32m━━━━━━━━━━━━━━━━━━━━\u001b[0m\u001b[37m\u001b[0m \u001b[1m1s\u001b[0m 2ms/step - accuracy: 0.8487 - loss: 0.3534\n",
            "Epoch 65/120\n",
            "\u001b[1m249/249\u001b[0m \u001b[32m━━━━━━━━━━━━━━━━━━━━\u001b[0m\u001b[37m\u001b[0m \u001b[1m1s\u001b[0m 2ms/step - accuracy: 0.8452 - loss: 0.3629\n",
            "Epoch 66/120\n",
            "\u001b[1m249/249\u001b[0m \u001b[32m━━━━━━━━━━━━━━━━━━━━\u001b[0m\u001b[37m\u001b[0m \u001b[1m1s\u001b[0m 2ms/step - accuracy: 0.8411 - loss: 0.3618\n",
            "Epoch 67/120\n",
            "\u001b[1m249/249\u001b[0m \u001b[32m━━━━━━━━━━━━━━━━━━━━\u001b[0m\u001b[37m\u001b[0m \u001b[1m1s\u001b[0m 2ms/step - accuracy: 0.8441 - loss: 0.3612\n",
            "Epoch 68/120\n",
            "\u001b[1m249/249\u001b[0m \u001b[32m━━━━━━━━━━━━━━━━━━━━\u001b[0m\u001b[37m\u001b[0m \u001b[1m1s\u001b[0m 2ms/step - accuracy: 0.8363 - loss: 0.3656\n",
            "Epoch 69/120\n",
            "\u001b[1m249/249\u001b[0m \u001b[32m━━━━━━━━━━━━━━━━━━━━\u001b[0m\u001b[37m\u001b[0m \u001b[1m1s\u001b[0m 2ms/step - accuracy: 0.8439 - loss: 0.3597\n",
            "Epoch 70/120\n",
            "\u001b[1m249/249\u001b[0m \u001b[32m━━━━━━━━━━━━━━━━━━━━\u001b[0m\u001b[37m\u001b[0m \u001b[1m1s\u001b[0m 2ms/step - accuracy: 0.8436 - loss: 0.3616\n",
            "Epoch 71/120\n",
            "\u001b[1m249/249\u001b[0m \u001b[32m━━━━━━━━━━━━━━━━━━━━\u001b[0m\u001b[37m\u001b[0m \u001b[1m1s\u001b[0m 2ms/step - accuracy: 0.8506 - loss: 0.3505\n",
            "Epoch 72/120\n",
            "\u001b[1m249/249\u001b[0m \u001b[32m━━━━━━━━━━━━━━━━━━━━\u001b[0m\u001b[37m\u001b[0m \u001b[1m0s\u001b[0m 2ms/step - accuracy: 0.8414 - loss: 0.3638\n",
            "Epoch 73/120\n",
            "\u001b[1m249/249\u001b[0m \u001b[32m━━━━━━━━━━━━━━━━━━━━\u001b[0m\u001b[37m\u001b[0m \u001b[1m1s\u001b[0m 2ms/step - accuracy: 0.8368 - loss: 0.3708\n",
            "Epoch 74/120\n",
            "\u001b[1m249/249\u001b[0m \u001b[32m━━━━━━━━━━━━━━━━━━━━\u001b[0m\u001b[37m\u001b[0m \u001b[1m1s\u001b[0m 3ms/step - accuracy: 0.8475 - loss: 0.3506\n",
            "Epoch 75/120\n",
            "\u001b[1m249/249\u001b[0m \u001b[32m━━━━━━━━━━━━━━━━━━━━\u001b[0m\u001b[37m\u001b[0m \u001b[1m1s\u001b[0m 3ms/step - accuracy: 0.8514 - loss: 0.3517\n",
            "Epoch 76/120\n",
            "\u001b[1m249/249\u001b[0m \u001b[32m━━━━━━━━━━━━━━━━━━━━\u001b[0m\u001b[37m\u001b[0m \u001b[1m1s\u001b[0m 2ms/step - accuracy: 0.8450 - loss: 0.3554\n",
            "Epoch 77/120\n",
            "\u001b[1m249/249\u001b[0m \u001b[32m━━━━━━━━━━━━━━━━━━━━\u001b[0m\u001b[37m\u001b[0m \u001b[1m1s\u001b[0m 2ms/step - accuracy: 0.8435 - loss: 0.3580\n",
            "Epoch 78/120\n",
            "\u001b[1m249/249\u001b[0m \u001b[32m━━━━━━━━━━━━━━━━━━━━\u001b[0m\u001b[37m\u001b[0m \u001b[1m0s\u001b[0m 2ms/step - accuracy: 0.8438 - loss: 0.3641\n",
            "Epoch 79/120\n",
            "\u001b[1m249/249\u001b[0m \u001b[32m━━━━━━━━━━━━━━━━━━━━\u001b[0m\u001b[37m\u001b[0m \u001b[1m1s\u001b[0m 2ms/step - accuracy: 0.8485 - loss: 0.3509\n",
            "Epoch 80/120\n",
            "\u001b[1m249/249\u001b[0m \u001b[32m━━━━━━━━━━━━━━━━━━━━\u001b[0m\u001b[37m\u001b[0m \u001b[1m0s\u001b[0m 2ms/step - accuracy: 0.8558 - loss: 0.3391\n",
            "Epoch 81/120\n",
            "\u001b[1m249/249\u001b[0m \u001b[32m━━━━━━━━━━━━━━━━━━━━\u001b[0m\u001b[37m\u001b[0m \u001b[1m1s\u001b[0m 2ms/step - accuracy: 0.8440 - loss: 0.3681\n",
            "Epoch 82/120\n",
            "\u001b[1m249/249\u001b[0m \u001b[32m━━━━━━━━━━━━━━━━━━━━\u001b[0m\u001b[37m\u001b[0m \u001b[1m0s\u001b[0m 2ms/step - accuracy: 0.8489 - loss: 0.3528\n",
            "Epoch 83/120\n",
            "\u001b[1m249/249\u001b[0m \u001b[32m━━━━━━━━━━━━━━━━━━━━\u001b[0m\u001b[37m\u001b[0m \u001b[1m1s\u001b[0m 2ms/step - accuracy: 0.8441 - loss: 0.3599\n",
            "Epoch 84/120\n",
            "\u001b[1m249/249\u001b[0m \u001b[32m━━━━━━━━━━━━━━━━━━━━\u001b[0m\u001b[37m\u001b[0m \u001b[1m1s\u001b[0m 2ms/step - accuracy: 0.8533 - loss: 0.3516\n",
            "Epoch 85/120\n",
            "\u001b[1m249/249\u001b[0m \u001b[32m━━━━━━━━━━━━━━━━━━━━\u001b[0m\u001b[37m\u001b[0m \u001b[1m0s\u001b[0m 2ms/step - accuracy: 0.8503 - loss: 0.3509\n",
            "Epoch 86/120\n",
            "\u001b[1m249/249\u001b[0m \u001b[32m━━━━━━━━━━━━━━━━━━━━\u001b[0m\u001b[37m\u001b[0m \u001b[1m1s\u001b[0m 2ms/step - accuracy: 0.8483 - loss: 0.3539\n",
            "Epoch 87/120\n",
            "\u001b[1m249/249\u001b[0m \u001b[32m━━━━━━━━━━━━━━━━━━━━\u001b[0m\u001b[37m\u001b[0m \u001b[1m0s\u001b[0m 2ms/step - accuracy: 0.8466 - loss: 0.3531\n",
            "Epoch 88/120\n",
            "\u001b[1m249/249\u001b[0m \u001b[32m━━━━━━━━━━━━━━━━━━━━\u001b[0m\u001b[37m\u001b[0m \u001b[1m1s\u001b[0m 2ms/step - accuracy: 0.8434 - loss: 0.3585\n",
            "Epoch 89/120\n",
            "\u001b[1m249/249\u001b[0m \u001b[32m━━━━━━━━━━━━━━━━━━━━\u001b[0m\u001b[37m\u001b[0m \u001b[1m1s\u001b[0m 2ms/step - accuracy: 0.8477 - loss: 0.3583\n",
            "Epoch 90/120\n",
            "\u001b[1m249/249\u001b[0m \u001b[32m━━━━━━━━━━━━━━━━━━━━\u001b[0m\u001b[37m\u001b[0m \u001b[1m1s\u001b[0m 2ms/step - accuracy: 0.8511 - loss: 0.3446\n",
            "Epoch 91/120\n",
            "\u001b[1m249/249\u001b[0m \u001b[32m━━━━━━━━━━━━━━━━━━━━\u001b[0m\u001b[37m\u001b[0m \u001b[1m1s\u001b[0m 2ms/step - accuracy: 0.8397 - loss: 0.3668\n",
            "Epoch 92/120\n",
            "\u001b[1m249/249\u001b[0m \u001b[32m━━━━━━━━━━━━━━━━━━━━\u001b[0m\u001b[37m\u001b[0m \u001b[1m1s\u001b[0m 2ms/step - accuracy: 0.8514 - loss: 0.3569\n",
            "Epoch 93/120\n",
            "\u001b[1m249/249\u001b[0m \u001b[32m━━━━━━━━━━━━━━━━━━━━\u001b[0m\u001b[37m\u001b[0m \u001b[1m1s\u001b[0m 2ms/step - accuracy: 0.8476 - loss: 0.3534\n",
            "Epoch 94/120\n",
            "\u001b[1m249/249\u001b[0m \u001b[32m━━━━━━━━━━━━━━━━━━━━\u001b[0m\u001b[37m\u001b[0m \u001b[1m1s\u001b[0m 3ms/step - accuracy: 0.8453 - loss: 0.3578\n",
            "Epoch 95/120\n",
            "\u001b[1m249/249\u001b[0m \u001b[32m━━━━━━━━━━━━━━━━━━━━\u001b[0m\u001b[37m\u001b[0m \u001b[1m1s\u001b[0m 3ms/step - accuracy: 0.8440 - loss: 0.3574\n",
            "Epoch 96/120\n",
            "\u001b[1m249/249\u001b[0m \u001b[32m━━━━━━━━━━━━━━━━━━━━\u001b[0m\u001b[37m\u001b[0m \u001b[1m1s\u001b[0m 3ms/step - accuracy: 0.8454 - loss: 0.3576\n",
            "Epoch 97/120\n",
            "\u001b[1m249/249\u001b[0m \u001b[32m━━━━━━━━━━━━━━━━━━━━\u001b[0m\u001b[37m\u001b[0m \u001b[1m1s\u001b[0m 2ms/step - accuracy: 0.8514 - loss: 0.3510\n",
            "Epoch 98/120\n",
            "\u001b[1m249/249\u001b[0m \u001b[32m━━━━━━━━━━━━━━━━━━━━\u001b[0m\u001b[37m\u001b[0m \u001b[1m0s\u001b[0m 2ms/step - accuracy: 0.8517 - loss: 0.3441\n",
            "Epoch 99/120\n",
            "\u001b[1m249/249\u001b[0m \u001b[32m━━━━━━━━━━━━━━━━━━━━\u001b[0m\u001b[37m\u001b[0m \u001b[1m0s\u001b[0m 2ms/step - accuracy: 0.8513 - loss: 0.3493\n",
            "Epoch 100/120\n",
            "\u001b[1m249/249\u001b[0m \u001b[32m━━━━━━━━━━━━━━━━━━━━\u001b[0m\u001b[37m\u001b[0m \u001b[1m1s\u001b[0m 2ms/step - accuracy: 0.8515 - loss: 0.3514\n",
            "Epoch 101/120\n",
            "\u001b[1m249/249\u001b[0m \u001b[32m━━━━━━━━━━━━━━━━━━━━\u001b[0m\u001b[37m\u001b[0m \u001b[1m1s\u001b[0m 2ms/step - accuracy: 0.8537 - loss: 0.3477\n",
            "Epoch 102/120\n",
            "\u001b[1m249/249\u001b[0m \u001b[32m━━━━━━━━━━━━━━━━━━━━\u001b[0m\u001b[37m\u001b[0m \u001b[1m1s\u001b[0m 2ms/step - accuracy: 0.8486 - loss: 0.3575\n",
            "Epoch 103/120\n",
            "\u001b[1m249/249\u001b[0m \u001b[32m━━━━━━━━━━━━━━━━━━━━\u001b[0m\u001b[37m\u001b[0m \u001b[1m1s\u001b[0m 2ms/step - accuracy: 0.8507 - loss: 0.3607\n",
            "Epoch 104/120\n",
            "\u001b[1m249/249\u001b[0m \u001b[32m━━━━━━━━━━━━━━━━━━━━\u001b[0m\u001b[37m\u001b[0m \u001b[1m1s\u001b[0m 2ms/step - accuracy: 0.8444 - loss: 0.3590\n",
            "Epoch 105/120\n",
            "\u001b[1m249/249\u001b[0m \u001b[32m━━━━━━━━━━━━━━━━━━━━\u001b[0m\u001b[37m\u001b[0m \u001b[1m1s\u001b[0m 2ms/step - accuracy: 0.8484 - loss: 0.3541\n",
            "Epoch 106/120\n",
            "\u001b[1m249/249\u001b[0m \u001b[32m━━━━━━━━━━━━━━━━━━━━\u001b[0m\u001b[37m\u001b[0m \u001b[1m1s\u001b[0m 2ms/step - accuracy: 0.8471 - loss: 0.3587\n",
            "Epoch 107/120\n",
            "\u001b[1m249/249\u001b[0m \u001b[32m━━━━━━━━━━━━━━━━━━━━\u001b[0m\u001b[37m\u001b[0m \u001b[1m1s\u001b[0m 2ms/step - accuracy: 0.8483 - loss: 0.3550\n",
            "Epoch 108/120\n",
            "\u001b[1m249/249\u001b[0m \u001b[32m━━━━━━━━━━━━━━━━━━━━\u001b[0m\u001b[37m\u001b[0m \u001b[1m1s\u001b[0m 2ms/step - accuracy: 0.8449 - loss: 0.3585\n",
            "Epoch 109/120\n",
            "\u001b[1m249/249\u001b[0m \u001b[32m━━━━━━━━━━━━━━━━━━━━\u001b[0m\u001b[37m\u001b[0m \u001b[1m0s\u001b[0m 2ms/step - accuracy: 0.8474 - loss: 0.3609\n",
            "Epoch 110/120\n",
            "\u001b[1m249/249\u001b[0m \u001b[32m━━━━━━━━━━━━━━━━━━━━\u001b[0m\u001b[37m\u001b[0m \u001b[1m0s\u001b[0m 2ms/step - accuracy: 0.8448 - loss: 0.3518\n",
            "Epoch 111/120\n",
            "\u001b[1m249/249\u001b[0m \u001b[32m━━━━━━━━━━━━━━━━━━━━\u001b[0m\u001b[37m\u001b[0m \u001b[1m1s\u001b[0m 2ms/step - accuracy: 0.8471 - loss: 0.3549\n",
            "Epoch 112/120\n",
            "\u001b[1m249/249\u001b[0m \u001b[32m━━━━━━━━━━━━━━━━━━━━\u001b[0m\u001b[37m\u001b[0m \u001b[1m0s\u001b[0m 2ms/step - accuracy: 0.8507 - loss: 0.3515\n",
            "Epoch 113/120\n",
            "\u001b[1m249/249\u001b[0m \u001b[32m━━━━━━━━━━━━━━━━━━━━\u001b[0m\u001b[37m\u001b[0m \u001b[1m1s\u001b[0m 2ms/step - accuracy: 0.8506 - loss: 0.3499\n",
            "Epoch 114/120\n",
            "\u001b[1m249/249\u001b[0m \u001b[32m━━━━━━━━━━━━━━━━━━━━\u001b[0m\u001b[37m\u001b[0m \u001b[1m1s\u001b[0m 2ms/step - accuracy: 0.8530 - loss: 0.3525\n",
            "Epoch 115/120\n",
            "\u001b[1m249/249\u001b[0m \u001b[32m━━━━━━━━━━━━━━━━━━━━\u001b[0m\u001b[37m\u001b[0m \u001b[1m1s\u001b[0m 3ms/step - accuracy: 0.8412 - loss: 0.3639\n",
            "Epoch 116/120\n",
            "\u001b[1m249/249\u001b[0m \u001b[32m━━━━━━━━━━━━━━━━━━━━\u001b[0m\u001b[37m\u001b[0m \u001b[1m1s\u001b[0m 2ms/step - accuracy: 0.8459 - loss: 0.3562\n",
            "Epoch 117/120\n",
            "\u001b[1m249/249\u001b[0m \u001b[32m━━━━━━━━━━━━━━━━━━━━\u001b[0m\u001b[37m\u001b[0m \u001b[1m1s\u001b[0m 3ms/step - accuracy: 0.8464 - loss: 0.3558\n",
            "Epoch 118/120\n",
            "\u001b[1m249/249\u001b[0m \u001b[32m━━━━━━━━━━━━━━━━━━━━\u001b[0m\u001b[37m\u001b[0m \u001b[1m1s\u001b[0m 2ms/step - accuracy: 0.8463 - loss: 0.3613\n",
            "Epoch 119/120\n",
            "\u001b[1m249/249\u001b[0m \u001b[32m━━━━━━━━━━━━━━━━━━━━\u001b[0m\u001b[37m\u001b[0m \u001b[1m1s\u001b[0m 2ms/step - accuracy: 0.8558 - loss: 0.3434\n",
            "Epoch 120/120\n",
            "\u001b[1m249/249\u001b[0m \u001b[32m━━━━━━━━━━━━━━━━━━━━\u001b[0m\u001b[37m\u001b[0m \u001b[1m1s\u001b[0m 2ms/step - accuracy: 0.8452 - loss: 0.3608\n"
          ]
        },
        {
          "output_type": "execute_result",
          "data": {
            "text/plain": [
              "<keras.src.callbacks.history.History at 0x7de76e3b2710>"
            ]
          },
          "metadata": {},
          "execution_count": 26
        }
      ]
    },
    {
      "cell_type": "markdown",
      "source": [
        "##Predictions"
      ],
      "metadata": {
        "id": "UzzX8gUEByOj"
      }
    },
    {
      "cell_type": "markdown",
      "source": [
        "single prediction"
      ],
      "metadata": {
        "id": "SM6UPNpCB2U5"
      }
    },
    {
      "cell_type": "code",
      "source": [
        "print(ann.predict(sc.transform([[0.0, 1.0, 0.0, 501, 0, 32, 2, 0.0, 4, 1, 545501]])) > 0.5)"
      ],
      "metadata": {
        "colab": {
          "base_uri": "https://localhost:8080/"
        },
        "id": "yOrEUd3QB6u6",
        "outputId": "18375ece-0876-4c30-c1f1-ea3babfc4be4"
      },
      "execution_count": 27,
      "outputs": [
        {
          "output_type": "stream",
          "name": "stdout",
          "text": [
            "\u001b[1m1/1\u001b[0m \u001b[32m━━━━━━━━━━━━━━━━━━━━\u001b[0m\u001b[37m\u001b[0m \u001b[1m0s\u001b[0m 103ms/step\n",
            "[[False]]\n"
          ]
        }
      ]
    },
    {
      "cell_type": "markdown",
      "source": [
        "prediction on test set"
      ],
      "metadata": {
        "id": "SNZRTCH4Cyzm"
      }
    },
    {
      "cell_type": "code",
      "source": [
        "y_pred = ann.predict(x_test)\n",
        "y_pred = (y_pred > 0.5)\n",
        "print( np.concatenate((y_pred.reshape(len(y_pred),1), y_test.reshape(len(y_test),1)),1))"
      ],
      "metadata": {
        "colab": {
          "base_uri": "https://localhost:8080/"
        },
        "id": "cDoHiL-MC6Kk",
        "outputId": "9af4267f-0aad-4c00-a217-f1a6b6a8bbe9"
      },
      "execution_count": 28,
      "outputs": [
        {
          "output_type": "stream",
          "name": "stdout",
          "text": [
            "\u001b[1m63/63\u001b[0m \u001b[32m━━━━━━━━━━━━━━━━━━━━\u001b[0m\u001b[37m\u001b[0m \u001b[1m0s\u001b[0m 2ms/step\n",
            "[[0 1]\n",
            " [0 0]\n",
            " [0 0]\n",
            " ...\n",
            " [0 1]\n",
            " [0 0]\n",
            " [0 1]]\n"
          ]
        }
      ]
    },
    {
      "cell_type": "markdown",
      "source": [
        "confusion matrix"
      ],
      "metadata": {
        "id": "rtrBv9aTD_q3"
      }
    },
    {
      "cell_type": "code",
      "source": [
        "from sklearn.metrics import confusion_matrix, accuracy_score\n",
        "cm = confusion_matrix(y_test, y_pred)\n",
        "print(cm)\n",
        "accuracy_score(y_test, y_pred)"
      ],
      "metadata": {
        "colab": {
          "base_uri": "https://localhost:8080/"
        },
        "id": "s4cniRFHDZhR",
        "outputId": "1724fb07-cbac-4ba9-b707-d2437d8e84d0"
      },
      "execution_count": 29,
      "outputs": [
        {
          "output_type": "stream",
          "name": "stdout",
          "text": [
            "[[1508   65]\n",
            " [ 250  163]]\n"
          ]
        },
        {
          "output_type": "execute_result",
          "data": {
            "text/plain": [
              "0.8413897280966768"
            ]
          },
          "metadata": {},
          "execution_count": 29
        }
      ]
    }
  ]
}